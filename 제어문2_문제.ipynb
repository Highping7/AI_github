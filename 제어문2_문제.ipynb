{
  "nbformat": 4,
  "nbformat_minor": 0,
  "metadata": {
    "colab": {
      "provenance": [],
      "include_colab_link": true
    },
    "kernelspec": {
      "name": "python3",
      "display_name": "Python 3"
    },
    "language_info": {
      "name": "python"
    }
  },
  "cells": [
    {
      "cell_type": "markdown",
      "metadata": {
        "id": "view-in-github",
        "colab_type": "text"
      },
      "source": [
        "<a href=\"https://colab.research.google.com/github/Highping7/AI_github/blob/main/%EC%A0%9C%EC%96%B4%EB%AC%B82_%EB%AC%B8%EC%A0%9C.ipynb\" target=\"_parent\"><img src=\"https://colab.research.google.com/assets/colab-badge.svg\" alt=\"Open In Colab\"/></a>"
      ]
    },
    {
      "cell_type": "markdown",
      "source": [
        "## float의 입력값을 받아 아래의 결과를 프린트하는 성적 계산기를 만들어라(if문 활용)\n",
        "* A: 90이상-100이하\n",
        "* B: 80이상-89이하\n",
        "* C: 70이상-79이하\n",
        "* D: 60이상-69이하\n",
        "* F: 60보다 낮으면"
      ],
      "metadata": {
        "id": "qlfFvwIxu1dD"
      }
    },
    {
      "cell_type": "code",
      "source": [
        "score = float(input(\"성적을 입력하세요 :\"))\n",
        "if score >89:\n",
        "  print(\"A\")\n",
        "elif score >79:\n",
        "  print(\"B\")\n",
        "elif score >69:\n",
        "  print(\"C\")\n",
        "elif score >59:\n",
        "  print(\"D\")\n",
        "else:\n",
        "  print(\"F\")"
      ],
      "metadata": {
        "colab": {
          "base_uri": "https://localhost:8080/"
        },
        "id": "R1lqVdFKqTfa",
        "outputId": "9f527ffc-7932-49a3-b8cf-1bc51e92e16c"
      },
      "execution_count": null,
      "outputs": [
        {
          "output_type": "stream",
          "name": "stdout",
          "text": [
            "성적을 입력하세요 : 50\n",
            "너의 성적은 : F\n"
          ]
        }
      ]
    },
    {
      "cell_type": "markdown",
      "source": [
        "## 3, 6, 8, 9, 12, 15를 리스트로 만들고 리스트의 값들중 2로 나눴을때 나머지가 0인 숫자들을 하나의 리스트에 저장하고 이를 프린트하시오(for, if문 사용)"
      ],
      "metadata": {
        "id": "jGix8ysDqYGb"
      }
    },
    {
      "cell_type": "code",
      "source": [
        "lis = [3,6,9,12,15]\n",
        "anslis = []\n",
        "for i in lis:\n",
        "  if i%2 == 0:\n",
        "    anslis.append(i)\n",
        "print(anslis)"
      ],
      "metadata": {
        "id": "6JJf5JthiIAv",
        "outputId": "563f981f-1dff-41dc-83c5-b1cbe903257b",
        "colab": {
          "base_uri": "https://localhost:8080/"
        }
      },
      "execution_count": 14,
      "outputs": [
        {
          "output_type": "stream",
          "name": "stdout",
          "text": [
            "[6, 12]\n"
          ]
        }
      ]
    },
    {
      "cell_type": "markdown",
      "source": [
        "## 3, 6, 8, 9, 12, 15를 리스트로 만들고 리스트의 값들중 2로 나눴을때 나머지가 0인 숫자들을 하나의 리스트에 저장하고 이를 프린트하시오(while, if문 사용)"
      ],
      "metadata": {
        "id": "VvW9_tKyuPH-"
      }
    },
    {
      "cell_type": "code",
      "source": [
        "lis2=[3,6,8,9,12,15]\n",
        "anslis2 = []\n",
        "j = 0\n",
        "while j < len(lis2):\n",
        "  if lis2[j]%2 == 0:\n",
        "    anslis2.append(lis2[j])\n",
        "  j += 1\n",
        "print(anslis2)"
      ],
      "metadata": {
        "colab": {
          "base_uri": "https://localhost:8080/"
        },
        "id": "7fS1BrUhuJRz",
        "outputId": "9511a308-3a48-43d5-bf43-4cc4f3c8b258"
      },
      "execution_count": 18,
      "outputs": [
        {
          "output_type": "stream",
          "name": "stdout",
          "text": [
            "[6, 8, 12]\n"
          ]
        }
      ]
    },
    {
      "cell_type": "markdown",
      "source": [
        "##6, 12, 18, 20, 24, 30의 값을 하나의 리스트로 만들고 2의 배수와 3의 배수에 모두 해당하는 값을 하나의 리스트에 저장해 프린트하시오"
      ],
      "metadata": {
        "id": "lE73l5h_sDjq"
      }
    },
    {
      "cell_type": "code",
      "source": [
        "lis3=[6, 12, 18, 20, 24, 30]\n",
        "anslis3 = []\n",
        "for i in lis3:\n",
        "  if i%2 == 0 and i%3 == 0:\n",
        "    anslis3.append(i)\n",
        "print(anslis3)"
      ],
      "metadata": {
        "colab": {
          "base_uri": "https://localhost:8080/"
        },
        "id": "g1AqH1oziZLI",
        "outputId": "7812b9f4-9d6d-4803-8573-bc2f74141bc2"
      },
      "execution_count": 20,
      "outputs": [
        {
          "output_type": "stream",
          "name": "stdout",
          "text": [
            "[6, 12, 18, 24, 30]\n"
          ]
        }
      ]
    },
    {
      "cell_type": "markdown",
      "source": [
        "## 3, 6, 8, 9, 12, 15의 값을 하나의 리스트에 저장하고 5보다 큰 값을 따로 하나의 리스트에 저장해 프린트하시오"
      ],
      "metadata": {
        "id": "QQ2XAzCktta0"
      }
    },
    {
      "cell_type": "code",
      "source": [
        "lis4 = [3, 6, 8, 9, 12, 15]\n",
        "anslis4 = []\n",
        "for i in lis4:\n",
        "  if i>5:\n",
        "    anslis4.append(i)\n",
        "print(anslis4)"
      ],
      "metadata": {
        "colab": {
          "base_uri": "https://localhost:8080/"
        },
        "id": "1mVKXFX4iidL",
        "outputId": "e010d36f-8867-45bb-c1af-fc31a2c28e0a"
      },
      "execution_count": 21,
      "outputs": [
        {
          "output_type": "stream",
          "name": "stdout",
          "text": [
            "[6, 8, 9, 12, 15]\n"
          ]
        }
      ]
    },
    {
      "cell_type": "markdown",
      "source": [
        "## apple, banana, orange, pear, kiwi를 리스트에 저장하고, 단어의 길이가 5이상인 단어들만 하나의 리스트에 저장하고 이를 프린트하시오(for, if문 사용)"
      ],
      "metadata": {
        "id": "E2XkCWNuq9kH"
      }
    },
    {
      "cell_type": "code",
      "source": [
        "lis5 = ['apple', 'banana', 'orange', 'pear', 'kiwi']\n",
        "anslis5 = []\n",
        "for i in lis5:\n",
        "  if len(i) > 5:\n",
        "    anslis5.append(i)\n",
        "print(anslis5)"
      ],
      "metadata": {
        "colab": {
          "base_uri": "https://localhost:8080/"
        },
        "id": "ykjKWGAbiSr_",
        "outputId": "b9065bb9-4caa-4654-b99f-a0b82dec6364"
      },
      "execution_count": 24,
      "outputs": [
        {
          "output_type": "stream",
          "name": "stdout",
          "text": [
            "['banana', 'orange']\n"
          ]
        }
      ]
    },
    {
      "cell_type": "markdown",
      "source": [
        "## apple, banana, orange, pear, kiwi를 하나의 리스트로 만들고 e가 포함된 단어들만 따로 하나의 리스트에 저장해 프린트하시오(for, if문 사용)"
      ],
      "metadata": {
        "id": "t9yb17fntS5I"
      }
    },
    {
      "cell_type": "code",
      "source": [
        "lis6 = ['apple', 'banana', 'orange', 'pear', 'kiwi']\n",
        "anslis6 = []\n",
        "for i in lis6:\n",
        "  if 'e' in i :\n",
        "    anslis6.append(i)\n",
        "print(anslis6)"
      ],
      "metadata": {
        "colab": {
          "base_uri": "https://localhost:8080/"
        },
        "id": "d489vUvgiZIA",
        "outputId": "38bffa19-4648-4885-d97f-9cb4adf895b7"
      },
      "execution_count": 25,
      "outputs": [
        {
          "output_type": "stream",
          "name": "stdout",
          "text": [
            "['apple', 'orange', 'pear']\n"
          ]
        }
      ]
    },
    {
      "cell_type": "markdown",
      "source": [
        "##John, Jane, David, Jessica, Josh를 리스트에 저장하고, 이름 처음 시작하는 단어가 J인 이름만 하나의 리스트에 저장하고 이를 프린트하시오(for, if문 사용)"
      ],
      "metadata": {
        "id": "XACAVhx0srPS"
      }
    },
    {
      "cell_type": "code",
      "source": [
        "lis7 = ['John', 'Jane', 'David', 'Jessica', 'Josh']\n",
        "anslis7 = []\n",
        "for i in lis7:\n",
        "  if i[0] == 'J':\n",
        "    anslis7.append(i)\n",
        "print(anslis7)"
      ],
      "metadata": {
        "colab": {
          "base_uri": "https://localhost:8080/"
        },
        "id": "95uX5YnVshha",
        "outputId": "a0af8370-a979-4016-c9a1-d2032de7f156"
      },
      "execution_count": 27,
      "outputs": [
        {
          "output_type": "stream",
          "name": "stdout",
          "text": [
            "['John', 'Jane', 'Jessica', 'Josh']\n"
          ]
        }
      ]
    },
    {
      "cell_type": "markdown",
      "source": [
        "##숫자 2, 14, 5, 7, 11, 9, 12, 15를 리스트로 만들고 리스트에서 10보다 크거나 2로 나눴을때 나머지가 1이 나오는 숫자만 프린트하시오(while, if 사용)"
      ],
      "metadata": {
        "id": "ekfPczCUp3TX"
      }
    },
    {
      "cell_type": "code",
      "source": [
        "lis8 = [2, 14, 5, 7, 11, 9, 12, 15]\n",
        "rep = 0\n",
        "while rep < len(lis8):\n",
        "  if lis8[rep]>10 and lis8[rep]%2==1:\n",
        "    print(lis8[rep])\n",
        "  rep+=1"
      ],
      "metadata": {
        "id": "kNXma0wNLcGu",
        "colab": {
          "base_uri": "https://localhost:8080/"
        },
        "outputId": "3ba0bda2-de6c-405f-9db3-af1d998ed238"
      },
      "execution_count": 38,
      "outputs": [
        {
          "output_type": "stream",
          "name": "stdout",
          "text": [
            "11\n",
            "15\n"
          ]
        }
      ]
    },
    {
      "cell_type": "markdown",
      "source": [
        "##하나의 빈 리스트를 만들고 input값을 넣었을때 이 input값이 양수이면 input값을 빈 리스트에 추가하고 음수이면 동작을 끝내고 리스트에 추가된 값들을 더해 프린트해라(while, if, break사용)\n",
        "\n",
        "* 리스트의 모든 숫자를 더하는 함수 sum(리스트)"
      ],
      "metadata": {
        "id": "MRi4W3AqxJ3Z"
      }
    },
    {
      "cell_type": "code",
      "source": [
        "emlis = []\n",
        "while 1:\n",
        "  inp = float(input(\"숫자를 입력해 주세요.\"))\n",
        "  if inp < 0:\n",
        "    emlis.append(inp)\n",
        "    break\n",
        "  else:\n",
        "    emlis.append(inp)\n",
        "print((\"입력한 숫자의 모든 합은 : {}\").format(sum(emlis)))"
      ],
      "metadata": {
        "colab": {
          "base_uri": "https://localhost:8080/"
        },
        "id": "CA9zS_yZwFiT",
        "outputId": "932ed4d4-4eba-4f1e-c023-29a4368bb092"
      },
      "execution_count": 32,
      "outputs": [
        {
          "output_type": "stream",
          "name": "stdout",
          "text": [
            "숫자를 입력해 주세요.50\n",
            "숫자를 입력해 주세요.-1\n",
            "입력한 숫자의 모든 합은 : 49.0\n"
          ]
        }
      ]
    },
    {
      "cell_type": "markdown",
      "source": [
        "## password라는 변수에 특정 문자를 부여하고 해당 input()함수를 활용해 password에 해당되는 문자가 정확하게 입력 되었을 때, 로그인되었습니다. 라는 문장을 프린트후 while문을 종료해라 만약에 문자가 정확하게 입력되지 않으면 잘못된 패스워드 입니다. 라는 문장을 프린트해라(while, if, break 사용)"
      ],
      "metadata": {
        "id": "Mr5pvs5IyuRU"
      }
    },
    {
      "cell_type": "code",
      "source": [
        "setpw = \"password\"\n",
        "while 1:\n",
        "  pw = input(\"패스워드를 입력해 주세요. : \")\n",
        "  if pw == setpw:\n",
        "    print(\"로그인되었습니다\")\n",
        "    break\n",
        "  else:\n",
        "    print(\"잘못된 패스워드입니다.\")"
      ],
      "metadata": {
        "colab": {
          "base_uri": "https://localhost:8080/"
        },
        "id": "WeMeErG5yAJ9",
        "outputId": "d77da195-b8ec-46ad-e600-8ce5c3261341"
      },
      "execution_count": 35,
      "outputs": [
        {
          "output_type": "stream",
          "name": "stdout",
          "text": [
            "패스워드를 입력해 주세요. : passward\n",
            "잘못된 패스워드입니다.\n",
            "패스워드를 입력해 주세요. : password\n",
            "로그인되었습니다\n"
          ]
        }
      ]
    },
    {
      "cell_type": "code",
      "source": [],
      "metadata": {
        "id": "TCLbQ9CYzpPV"
      },
      "execution_count": null,
      "outputs": []
    }
  ]
}