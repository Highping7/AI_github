{
  "nbformat": 4,
  "nbformat_minor": 0,
  "metadata": {
    "colab": {
      "provenance": [],
      "include_colab_link": true
    },
    "kernelspec": {
      "name": "python3",
      "display_name": "Python 3"
    },
    "language_info": {
      "name": "python"
    }
  },
  "cells": [
    {
      "cell_type": "markdown",
      "metadata": {
        "id": "view-in-github",
        "colab_type": "text"
      },
      "source": [
        "<a href=\"https://colab.research.google.com/github/Highping7/AI_github/blob/main/%EC%88%98%EC%97%85%EC%9E%90%EB%A3%8C_%EC%A0%9C%EC%96%B4%EB%AC%B8_%EB%AC%B8%EC%A0%9C.ipynb\" target=\"_parent\"><img src=\"https://colab.research.google.com/assets/colab-badge.svg\" alt=\"Open In Colab\"/></a>"
      ]
    },
    {
      "cell_type": "markdown",
      "source": [
        "## 100m 달리기 아래는 달리기 성적 기록이다. 이때 9초 이상 11초 미만 합격, 11초 이상 13초 미만 재시험, 13초 초과 불합격을 프린트하시오\n",
        "\n",
        "* input을 활용해 만들기\n",
        "* 9, 10, 11, 12, 15, 25, 13, 12, 9.5, 10.6, 11.2, 9.5"
      ],
      "metadata": {
        "id": "RxLgKtG8TXc8"
      }
    },
    {
      "cell_type": "code",
      "source": [
        "run = [9, 10, 11, 12, 15, 25, 13, 12, 9.5, 10.6, 11.2, 9.5]\n",
        "\n",
        "def score(run):\n",
        "    if (run < 11):\n",
        "      print(\"합격\")\n",
        "    elif  (run < 13):\n",
        "      print(\"재시험\")\n",
        "    else:\n",
        "      print(\"불합격\")\n",
        "for i in run:\n",
        "  score(i);\n",
        "\n",
        "myrun = float(input())\n",
        "score(myrun)\n"
      ],
      "metadata": {
        "colab": {
          "base_uri": "https://localhost:8080/"
        },
        "id": "cEZSQ47bTs1p",
        "outputId": "4370933b-cdf5-403e-bf30-31ec35d46c1e"
      },
      "execution_count": 4,
      "outputs": [
        {
          "output_type": "stream",
          "name": "stdout",
          "text": [
            "합격\n",
            "합격\n",
            "재시험\n",
            "재시험\n",
            "불합격\n",
            "불합격\n",
            "불합격\n",
            "재시험\n",
            "합격\n",
            "합격\n",
            "재시험\n",
            "합격\n",
            "51\n",
            "불합격\n"
          ]
        }
      ]
    },
    {
      "cell_type": "markdown",
      "source": [
        "##짜장면 : 10,000원, 짬뽕 : 11,000원, 탕수육 22,000원, 볶음밥 : 9,000원을 딕셔너리 형태로 저장하고 메뉴 이름과 금액을 각각 다른 리스트에 저장해 두 개의 리스트로 만들어서 프린트하시오(for 문 사용)"
      ],
      "metadata": {
        "id": "O4tOdgJoG_78"
      }
    },
    {
      "cell_type": "code",
      "source": [
        "chinese = {\"짜장면\": 10000, \"짬뽕\":11000,\"탕수육\":22000,\"볶음밥\":9000}"
      ],
      "metadata": {
        "id": "Viyiy3qWHAPq"
      },
      "execution_count": 5,
      "outputs": []
    },
    {
      "cell_type": "code",
      "source": [
        "for i,j in chinese.items():\n",
        "  print(j)"
      ],
      "metadata": {
        "colab": {
          "base_uri": "https://localhost:8080/"
        },
        "id": "fw6hltcYtE4x",
        "outputId": "82e70fd2-d399-4694-9af0-9a6207ac9280"
      },
      "execution_count": 13,
      "outputs": [
        {
          "output_type": "stream",
          "name": "stdout",
          "text": [
            "10000\n",
            "11000\n",
            "22000\n",
            "9000\n"
          ]
        }
      ]
    },
    {
      "cell_type": "code",
      "source": [
        "a = []\n",
        "b = []\n",
        "for i,j in chinese.items():\n",
        "  a.append(i)\n",
        "  b.append(j)\n",
        "print(a)\n",
        "print(b)"
      ],
      "metadata": {
        "colab": {
          "base_uri": "https://localhost:8080/"
        },
        "id": "18AG8sIDsMv6",
        "outputId": "3f6c728d-9bd4-40e0-88f4-5782c0c0b727"
      },
      "execution_count": 19,
      "outputs": [
        {
          "output_type": "stream",
          "name": "stdout",
          "text": [
            "['짜장면', '짬뽕', '탕수육', '볶음밥']\n",
            "[10000, 11000, 22000, 9000]\n"
          ]
        }
      ]
    },
    {
      "cell_type": "markdown",
      "source": [
        "##10명의 학생이 있다 각 학생들은 중국집에서 한가지 메뉴를 주문 할 수 있다. 이때 위에서 만든 메뉴판을 활용해 각각 학생들이 한가지 메뉴를 입력하게 하고 메뉴들의 총 합을 더해서 프린트하시오(리스트를 활용해 문제해결)"
      ],
      "metadata": {
        "id": "akKsCOiQHSBr"
      }
    },
    {
      "cell_type": "code",
      "source": [
        "'''\n",
        "student = 10\n",
        "order = []\n",
        "ans = 0\n",
        "for i in range(student):\n",
        "  oord = input((\"{}번 학생의 주문 : \").format(i+1))\n",
        "  if oord not in a:\n",
        "    print(\"잘못 주문하셨습니다.\")\n",
        "    i -= 1\n",
        "  else:\n",
        "    ans += b[a.index(oord)]\n",
        "print(ans)\n",
        "'''\n",
        "'''\n",
        "student = 10\n",
        "order = []\n",
        "ans = 0\n",
        "for i in range(student):\n",
        "  oord = input((\"{}번 학생의 주문 : \").format(i+1))\n",
        "  if oord not in a:\n",
        "    print(\"잘못 주문하셨습니다.\")\n",
        "    i -= 1\n",
        "  else:\n",
        "    order.append(b[a.index(oord)])\n",
        "print(sum(order))\n",
        "'''\n",
        "student = 10\n",
        "order = []\n",
        "# ans = 0\n",
        "loop = 0\n",
        "while loop < student:\n",
        "  oord = input((\"{}번 학생의 주문 : \").format(loop+1))\n",
        "  if oord not in a:\n",
        "    print(\"잘못 주문하셨습니다.\")\n",
        "    continue\n",
        "  else:\n",
        "    order.append(b[a.index(oord)])\n",
        "    loop+=1\n",
        "print(sum(order))"
      ],
      "metadata": {
        "colab": {
          "base_uri": "https://localhost:8080/"
        },
        "id": "wFiQoBdBHJhE",
        "outputId": "3347a561-e085-403e-d25e-e4ae581f74c1"
      },
      "execution_count": 47,
      "outputs": [
        {
          "output_type": "stream",
          "name": "stdout",
          "text": [
            "1번 학생의 주문 : 짜장면\n",
            "2번 학생의 주문 : 탕수육\n",
            "3번 학생의 주문 : 라면\n",
            "잘못 주문하셨습니다.\n",
            "3번 학생의 주문 : 라면\n",
            "잘못 주문하셨습니다.\n",
            "3번 학생의 주문 : 울면\n",
            "잘못 주문하셨습니다.\n",
            "3번 학생의 주문 : 탕수육\n",
            "4번 학생의 주문 : 자장면\n",
            "잘못 주문하셨습니다.\n",
            "4번 학생의 주문 : 짜장면\n",
            "5번 학생의 주문 : 짬뽕\n",
            "6번 학생의 주문 : 탕수육\n",
            "7번 학생의 주문 : 볶음밥\n",
            "8번 학생의 주문 : 볶음밥\n",
            "9번 학생의 주문 : 짜장면\n",
            "10번 학생의 주문 : 탕수육\n",
            "147000\n"
          ]
        }
      ]
    },
    {
      "cell_type": "markdown",
      "source": [],
      "metadata": {
        "id": "Kb4_fRwIKx6t"
      }
    },
    {
      "cell_type": "markdown",
      "source": [
        "##10명의 학생이 있다 각 학생들은 중국집에서 한가지 메뉴를 주문 할 수 있다. 이때 위에서 만든 메뉴판을 활용해 각각 학생들이 한가지 메뉴를 입력하게 하고 메뉴들의 총 합을 더해서 프린트하시오(딕셔러니를 활용해 문제 해결)"
      ],
      "metadata": {
        "id": "25RjLzj4K563"
      }
    },
    {
      "cell_type": "code",
      "source": [
        "student = 10\n",
        "order = []\n",
        "ans = 0\n",
        "for i in range(student):\n",
        "  oord = input((\"{}번 학생의 주문 : \").format(i+1))\n",
        "  if oord not in chinese.keys():\n",
        "    print(\"잘못 주문하셨습니다.\")\n",
        "    i -= 1\n",
        "  else:\n",
        "    ans += chinese.get(oord)\n",
        "print(ans)\n",
        "\n",
        "'''\n",
        "j = 0\n",
        "ans2 = 0\n",
        "while j < student:\n",
        "  oord = input((\"{}번 학생의 주문 : \").format(j+1))\n",
        "  if oord not in chinese.keys():\n",
        "    print(\"잘못 주문하셨습니다.\")\n",
        "    continue\n",
        "  else:\n",
        "    ans += chinese.get(oord)\n",
        "    j+=1\n",
        "print(ans2)\n",
        "'''"
      ],
      "metadata": {
        "id": "4vS6dz0xIWyC",
        "colab": {
          "base_uri": "https://localhost:8080/"
        },
        "outputId": "21da0a31-68bc-49bd-da47-6d9b4c2486d8"
      },
      "execution_count": 27,
      "outputs": [
        {
          "output_type": "stream",
          "name": "stdout",
          "text": [
            "1번 학생의 주문 : 탕수육\n",
            "2번 학생의 주문 : 탕수육\n",
            "3번 학생의 주문 : 탕수육\n",
            "4번 학생의 주문 : 탕수육\n",
            "5번 학생의 주문 : 탕수육\n",
            "6번 학생의 주문 : 탕수육\n",
            "7번 학생의 주문 : 텅수육\n",
            "잘못 주문하셨습니다.\n",
            "8번 학생의 주문 : 탕수육\n",
            "9번 학생의 주문 : 탕수육\n",
            "10번 학생의 주문 : 탕수육\n",
            "198000\n"
          ]
        }
      ]
    },
    {
      "cell_type": "markdown",
      "source": [
        "##while문을 사용해 1부터 10까지 프린트 하시오\n",
        "\n",
        "\n",
        "*   i+=1 이 의미는 i에 +1을 해서 이것을 다시 i에 저장해준다는 뜻\n"
      ],
      "metadata": {
        "id": "BZ1PDMyXLomD"
      }
    },
    {
      "cell_type": "code",
      "source": [
        "i =0\n",
        "while i < 10:\n",
        "  i+=1\n",
        "  print(i)"
      ],
      "metadata": {
        "colab": {
          "base_uri": "https://localhost:8080/"
        },
        "id": "D6DuipeVKF6C",
        "outputId": "dac0225e-f5ba-4424-fcae-83fdeb0f4131"
      },
      "execution_count": 31,
      "outputs": [
        {
          "output_type": "stream",
          "name": "stdout",
          "text": [
            "1\n",
            "2\n",
            "3\n",
            "4\n",
            "5\n",
            "6\n",
            "7\n",
            "8\n",
            "9\n",
            "10\n"
          ]
        }
      ]
    },
    {
      "cell_type": "markdown",
      "source": [
        "##while문을 사용해 1부터 10까지 프린트 하시오 이때 i가 3의 배수이면 while문을 멈춰주세요"
      ],
      "metadata": {
        "id": "U-vJrMajNInA"
      }
    },
    {
      "cell_type": "code",
      "source": [
        "i =0\n",
        "while i < 10:\n",
        "  i+=1\n",
        "  if i%3 == 0:\n",
        "    break\n",
        "  print(i)\n"
      ],
      "metadata": {
        "colab": {
          "base_uri": "https://localhost:8080/"
        },
        "id": "Fnk5rg1pL0Vp",
        "outputId": "6e97aae9-1975-403c-ec24-2070612e360e"
      },
      "execution_count": 34,
      "outputs": [
        {
          "output_type": "stream",
          "name": "stdout",
          "text": [
            "1\n",
            "2\n"
          ]
        }
      ]
    },
    {
      "cell_type": "markdown",
      "source": [
        "##while문을 사용해 1부터 10까지 프린트 하시오 이때 i가 3의 배수가 아닌값만 프린트 하시오"
      ],
      "metadata": {
        "id": "TpLyTHKzNST_"
      }
    },
    {
      "cell_type": "code",
      "source": [
        "i =0\n",
        "while i < 10:\n",
        "  i+=1\n",
        "  if i%3 == 0:\n",
        "    continue\n",
        "  print(i)\n"
      ],
      "metadata": {
        "colab": {
          "base_uri": "https://localhost:8080/"
        },
        "id": "KK4mhkBLM61r",
        "outputId": "0b017e44-df08-4292-8668-384d4cf315b3"
      },
      "execution_count": 35,
      "outputs": [
        {
          "output_type": "stream",
          "name": "stdout",
          "text": [
            "1\n",
            "2\n",
            "4\n",
            "5\n",
            "7\n",
            "8\n",
            "10\n"
          ]
        }
      ]
    },
    {
      "cell_type": "markdown",
      "source": [
        "##리스트에 라면, 3000, 생수, 2500, 과자,1500, 삼각김밥, 1000을 저장하고 리스트에서 메뉴명과 금액을 각각 따로 빼서 menu, money의 이름을 가지는 리스트로 각각 만드시오"
      ],
      "metadata": {
        "id": "vkrbGOjPNzrf"
      }
    },
    {
      "cell_type": "code",
      "source": [
        "menu = []\n",
        "money = []\n",
        "store = ['라면', 3000, '생수', 2500, '과자',1500, '삼각김밥', 1000]\n",
        "for i in store:\n",
        "  if type(i) == str:\n",
        "    menu.append(i)\n",
        "  else:\n",
        "    money.append(i)\n",
        "print(menu)\n",
        "print(money)"
      ],
      "metadata": {
        "id": "RYOk1EplOOg1",
        "colab": {
          "base_uri": "https://localhost:8080/"
        },
        "outputId": "08088cdb-2289-4a9b-e904-fccffc514051"
      },
      "execution_count": 40,
      "outputs": [
        {
          "output_type": "stream",
          "name": "stdout",
          "text": [
            "['라면', '생수', '과자', '삼각김밥']\n",
            "[3000, 2500, 1500, 1000]\n"
          ]
        }
      ]
    },
    {
      "cell_type": "markdown",
      "source": [
        "##while, for, if문을 활용해 아래와 같은 결과가 나오도록 만드시오"
      ],
      "metadata": {
        "id": "ks9TfJz_SgSA"
      }
    },
    {
      "cell_type": "code",
      "source": [
        "i = 0\n",
        "while i<5:\n",
        "  for j in range(len(menu)):\n",
        "    print((\"{}: {}원\").format(menu[j],money[j]))\n",
        "  ord = input(\"구매하고 싶은 품목을 선택하세요 : \")\n",
        "  if ord not in menu:\n",
        "    print(\"잘못 주문하셨습니다.\")\n",
        "    continue\n",
        "  else:\n",
        "    print((\"{}의 가격은 {}원 입니다.\").format(ord,money[menu.index(ord)]))\n",
        "    print(\"**************************\")\n",
        "    i+=1"
      ],
      "metadata": {
        "colab": {
          "base_uri": "https://localhost:8080/"
        },
        "id": "Ghmwx4hdOtS4",
        "outputId": "996d5198-f4ae-4332-fcc6-5a47adf63cff"
      },
      "execution_count": 45,
      "outputs": [
        {
          "output_type": "stream",
          "name": "stdout",
          "text": [
            "라면: 3000원\n",
            "생수: 2500원\n",
            "과자: 1500원\n",
            "삼각김밥: 1000원\n",
            "구매하고 싶은 품목을 선택하세요 : 라면\n",
            "라면의 가격은 3000원 입니다.\n",
            "**************************\n",
            "0\n",
            "라면: 3000원\n",
            "생수: 2500원\n",
            "과자: 1500원\n",
            "삼각김밥: 1000원\n",
            "구매하고 싶은 품목을 선택하세요 : 생수\n",
            "생수의 가격은 2500원 입니다.\n",
            "**************************\n",
            "1\n",
            "라면: 3000원\n",
            "생수: 2500원\n",
            "과자: 1500원\n",
            "삼각김밥: 1000원\n",
            "구매하고 싶은 품목을 선택하세요 : 과자\n",
            "과자의 가격은 1500원 입니다.\n",
            "**************************\n",
            "2\n",
            "라면: 3000원\n",
            "생수: 2500원\n",
            "과자: 1500원\n",
            "삼각김밥: 1000원\n",
            "구매하고 싶은 품목을 선택하세요 : 삼각김밥\n",
            "삼각김밥의 가격은 1000원 입니다.\n",
            "**************************\n",
            "3\n",
            "라면: 3000원\n",
            "생수: 2500원\n",
            "과자: 1500원\n",
            "삼각김밥: 1000원\n",
            "구매하고 싶은 품목을 선택하세요 : 라면\n",
            "라면의 가격은 3000원 입니다.\n",
            "**************************\n",
            "4\n"
          ]
        }
      ]
    },
    {
      "cell_type": "code",
      "source": [
        "store2 = {'라면':3000, '생수': 2500,'과자':1500, '삼각김밥': 1000}\n",
        "\n",
        "answer = 0\n",
        "while  1:      # for i in range(5):\n",
        "  for i,j in store2.items():\n",
        "    print((\"{}: {}원\").format(i,j))\n",
        "  order2 = input(\"구매하고 싶은 품목을 선택하세요 : \")\n",
        "  if order2 == \"done\":\n",
        "    print(\"*******************************\")\n",
        "    break\n",
        "  print((\"{}의 가격은 {}입니다.\").format(order2,store2.get(order2)))\n",
        "  answer += store2.get(order2)\n",
        "  print(\"*******************************\")\n",
        "print((\"총 금액은 {}원 입니다.\").format(answer))"
      ],
      "metadata": {
        "id": "uVp9qVECTNOP",
        "colab": {
          "base_uri": "https://localhost:8080/"
        },
        "outputId": "282e224a-d746-4905-864c-5ff2818af889"
      },
      "execution_count": 54,
      "outputs": [
        {
          "output_type": "stream",
          "name": "stdout",
          "text": [
            "라면: 3000원\n",
            "생수: 2500원\n",
            "과자: 1500원\n",
            "삼각김밥: 1000원\n",
            "구매하고 싶은 품목을 선택하세요 : 라면\n",
            "라면의 가격은 3000입니다.\n",
            "*******************************\n",
            "라면: 3000원\n",
            "생수: 2500원\n",
            "과자: 1500원\n",
            "삼각김밥: 1000원\n",
            "구매하고 싶은 품목을 선택하세요 : 삼각김밥\n",
            "삼각김밥의 가격은 1000입니다.\n",
            "*******************************\n",
            "라면: 3000원\n",
            "생수: 2500원\n",
            "과자: 1500원\n",
            "삼각김밥: 1000원\n",
            "구매하고 싶은 품목을 선택하세요 : done\n",
            "총 금액은 4000원 입니다.\n"
          ]
        }
      ]
    }
  ]
}