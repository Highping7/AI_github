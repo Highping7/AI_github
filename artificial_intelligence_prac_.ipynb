{
  "nbformat": 4,
  "nbformat_minor": 0,
  "metadata": {
    "colab": {
      "provenance": [],
      "authorship_tag": "ABX9TyNsFbYBKcFg3pzcC1Q0wox2",
      "include_colab_link": true
    },
    "kernelspec": {
      "name": "python3",
      "display_name": "Python 3"
    },
    "language_info": {
      "name": "python"
    }
  },
  "cells": [
    {
      "cell_type": "markdown",
      "metadata": {
        "id": "view-in-github",
        "colab_type": "text"
      },
      "source": [
        "<a href=\"https://colab.research.google.com/github/Highping7/AI_github/blob/BR01/artificial_intelligence_prac_.ipynb\" target=\"_parent\"><img src=\"https://colab.research.google.com/assets/colab-badge.svg\" alt=\"Open In Colab\"/></a>"
      ]
    },
    {
      "cell_type": "code",
      "source": [
        "name = \"\"\n",
        "age = 0"
      ],
      "metadata": {
        "id": "Xv5oH5yokh55"
      },
      "execution_count": null,
      "outputs": []
    },
    {
      "cell_type": "code",
      "source": [
        "ans = 'name : {}, age = {}'.format('JH',25)"
      ],
      "metadata": {
        "id": "eAaL1JT0kpWh"
      },
      "execution_count": null,
      "outputs": []
    },
    {
      "cell_type": "code",
      "source": [
        "print(ans)"
      ],
      "metadata": {
        "id": "u4uQBi71uRoZ",
        "outputId": "cd2fe686-bff2-4eb5-f299-488142b2210c",
        "colab": {
          "base_uri": "https://localhost:8080/"
        }
      },
      "execution_count": null,
      "outputs": [
        {
          "output_type": "stream",
          "name": "stdout",
          "text": [
            "name : JH, age = 25\n"
          ]
        }
      ]
    },
    {
      "cell_type": "code",
      "source": [
        "name = \"JH\"\n",
        "age = 25\n",
        "## 변수 초기화 후 입력. cin "
      ],
      "metadata": {
        "id": "Q17SWLMDnE3q"
      },
      "execution_count": null,
      "outputs": []
    },
    {
      "cell_type": "code",
      "source": [
        "print(name,\",\",age)"
      ],
      "metadata": {
        "id": "ynHZ-fE0m1CX",
        "outputId": "c71942cb-8e65-4313-b868-1e1edc10eced",
        "colab": {
          "base_uri": "https://localhost:8080/"
        }
      },
      "execution_count": null,
      "outputs": [
        {
          "output_type": "stream",
          "name": "stdout",
          "text": [
            "JH , 25\n"
          ]
        }
      ]
    },
    {
      "cell_type": "code",
      "source": [
        "name = input('name : ')\n",
        "age = int(input('age :'))\n",
        "\n",
        "ptans = 'name = {}, age = {}'.format(name,age)\n",
        "print(ptans)"
      ],
      "metadata": {
        "id": "D4jtJClCxqQ9",
        "outputId": "7c963afe-f725-41e6-ffc0-8938c0fe1c26",
        "colab": {
          "base_uri": "https://localhost:8080/"
        }
      },
      "execution_count": 1,
      "outputs": [
        {
          "output_type": "stream",
          "name": "stdout",
          "text": [
            "name : JH\n",
            "age :25\n",
            "name = JH, age = 25\n"
          ]
        }
      ]
    },
    {
      "cell_type": "code",
      "source": [
        "for i in range(1,10):\n",
        "    print(\"------------------\",i,\"단------------------\")\n",
        "    for j in range(1,10):\n",
        "        print(\"구구단 : \",i,\"*\",j,\"=\",i*j,\"입니다.\")"
      ],
      "metadata": {
        "id": "Pecyc8cmngDL",
        "outputId": "a1794051-962c-4c7f-8f5b-cb1f972b28c6",
        "colab": {
          "base_uri": "https://localhost:8080/"
        }
      },
      "execution_count": null,
      "outputs": [
        {
          "output_type": "stream",
          "name": "stdout",
          "text": [
            "------------------ 1 단------------------\n",
            "구구단 :  1 * 1 = 1 입니다.\n",
            "구구단 :  1 * 2 = 2 입니다.\n",
            "구구단 :  1 * 3 = 3 입니다.\n",
            "구구단 :  1 * 4 = 4 입니다.\n",
            "구구단 :  1 * 5 = 5 입니다.\n",
            "구구단 :  1 * 6 = 6 입니다.\n",
            "구구단 :  1 * 7 = 7 입니다.\n",
            "구구단 :  1 * 8 = 8 입니다.\n",
            "구구단 :  1 * 9 = 9 입니다.\n",
            "------------------ 2 단------------------\n",
            "구구단 :  2 * 1 = 2 입니다.\n",
            "구구단 :  2 * 2 = 4 입니다.\n",
            "구구단 :  2 * 3 = 6 입니다.\n",
            "구구단 :  2 * 4 = 8 입니다.\n",
            "구구단 :  2 * 5 = 10 입니다.\n",
            "구구단 :  2 * 6 = 12 입니다.\n",
            "구구단 :  2 * 7 = 14 입니다.\n",
            "구구단 :  2 * 8 = 16 입니다.\n",
            "구구단 :  2 * 9 = 18 입니다.\n",
            "------------------ 3 단------------------\n",
            "구구단 :  3 * 1 = 3 입니다.\n",
            "구구단 :  3 * 2 = 6 입니다.\n",
            "구구단 :  3 * 3 = 9 입니다.\n",
            "구구단 :  3 * 4 = 12 입니다.\n",
            "구구단 :  3 * 5 = 15 입니다.\n",
            "구구단 :  3 * 6 = 18 입니다.\n",
            "구구단 :  3 * 7 = 21 입니다.\n",
            "구구단 :  3 * 8 = 24 입니다.\n",
            "구구단 :  3 * 9 = 27 입니다.\n",
            "------------------ 4 단------------------\n",
            "구구단 :  4 * 1 = 4 입니다.\n",
            "구구단 :  4 * 2 = 8 입니다.\n",
            "구구단 :  4 * 3 = 12 입니다.\n",
            "구구단 :  4 * 4 = 16 입니다.\n",
            "구구단 :  4 * 5 = 20 입니다.\n",
            "구구단 :  4 * 6 = 24 입니다.\n",
            "구구단 :  4 * 7 = 28 입니다.\n",
            "구구단 :  4 * 8 = 32 입니다.\n",
            "구구단 :  4 * 9 = 36 입니다.\n",
            "------------------ 5 단------------------\n",
            "구구단 :  5 * 1 = 5 입니다.\n",
            "구구단 :  5 * 2 = 10 입니다.\n",
            "구구단 :  5 * 3 = 15 입니다.\n",
            "구구단 :  5 * 4 = 20 입니다.\n",
            "구구단 :  5 * 5 = 25 입니다.\n",
            "구구단 :  5 * 6 = 30 입니다.\n",
            "구구단 :  5 * 7 = 35 입니다.\n",
            "구구단 :  5 * 8 = 40 입니다.\n",
            "구구단 :  5 * 9 = 45 입니다.\n",
            "------------------ 6 단------------------\n",
            "구구단 :  6 * 1 = 6 입니다.\n",
            "구구단 :  6 * 2 = 12 입니다.\n",
            "구구단 :  6 * 3 = 18 입니다.\n",
            "구구단 :  6 * 4 = 24 입니다.\n",
            "구구단 :  6 * 5 = 30 입니다.\n",
            "구구단 :  6 * 6 = 36 입니다.\n",
            "구구단 :  6 * 7 = 42 입니다.\n",
            "구구단 :  6 * 8 = 48 입니다.\n",
            "구구단 :  6 * 9 = 54 입니다.\n",
            "------------------ 7 단------------------\n",
            "구구단 :  7 * 1 = 7 입니다.\n",
            "구구단 :  7 * 2 = 14 입니다.\n",
            "구구단 :  7 * 3 = 21 입니다.\n",
            "구구단 :  7 * 4 = 28 입니다.\n",
            "구구단 :  7 * 5 = 35 입니다.\n",
            "구구단 :  7 * 6 = 42 입니다.\n",
            "구구단 :  7 * 7 = 49 입니다.\n",
            "구구단 :  7 * 8 = 56 입니다.\n",
            "구구단 :  7 * 9 = 63 입니다.\n",
            "------------------ 8 단------------------\n",
            "구구단 :  8 * 1 = 8 입니다.\n",
            "구구단 :  8 * 2 = 16 입니다.\n",
            "구구단 :  8 * 3 = 24 입니다.\n",
            "구구단 :  8 * 4 = 32 입니다.\n",
            "구구단 :  8 * 5 = 40 입니다.\n",
            "구구단 :  8 * 6 = 48 입니다.\n",
            "구구단 :  8 * 7 = 56 입니다.\n",
            "구구단 :  8 * 8 = 64 입니다.\n",
            "구구단 :  8 * 9 = 72 입니다.\n",
            "------------------ 9 단------------------\n",
            "구구단 :  9 * 1 = 9 입니다.\n",
            "구구단 :  9 * 2 = 18 입니다.\n",
            "구구단 :  9 * 3 = 27 입니다.\n",
            "구구단 :  9 * 4 = 36 입니다.\n",
            "구구단 :  9 * 5 = 45 입니다.\n",
            "구구단 :  9 * 6 = 54 입니다.\n",
            "구구단 :  9 * 7 = 63 입니다.\n",
            "구구단 :  9 * 8 = 72 입니다.\n",
            "구구단 :  9 * 9 = 81 입니다.\n"
          ]
        }
      ]
    },
    {
      "cell_type": "code",
      "source": [
        "for i in range(1,10):\n",
        "    s1 = '----------{}----------'.format(i)\n",
        "    print(s1)\n",
        "    for j in range(1,10):\n",
        "        s2 = '구구단 : {}*{}={}입니다.'.format(i,j,i*j)\n",
        "        print(s2)"
      ],
      "metadata": {
        "id": "gMOixtZVo-yI",
        "outputId": "a20c51ae-e28f-4220-c2d4-8772cf018066",
        "colab": {
          "base_uri": "https://localhost:8080/"
        }
      },
      "execution_count": null,
      "outputs": [
        {
          "output_type": "stream",
          "name": "stdout",
          "text": [
            "----------1----------\n",
            "구구단 : 1*1=1입니다.\n",
            "구구단 : 1*2=2입니다.\n",
            "구구단 : 1*3=3입니다.\n",
            "구구단 : 1*4=4입니다.\n",
            "구구단 : 1*5=5입니다.\n",
            "구구단 : 1*6=6입니다.\n",
            "구구단 : 1*7=7입니다.\n",
            "구구단 : 1*8=8입니다.\n",
            "구구단 : 1*9=9입니다.\n",
            "----------2----------\n",
            "구구단 : 2*1=2입니다.\n",
            "구구단 : 2*2=4입니다.\n",
            "구구단 : 2*3=6입니다.\n",
            "구구단 : 2*4=8입니다.\n",
            "구구단 : 2*5=10입니다.\n",
            "구구단 : 2*6=12입니다.\n",
            "구구단 : 2*7=14입니다.\n",
            "구구단 : 2*8=16입니다.\n",
            "구구단 : 2*9=18입니다.\n",
            "----------3----------\n",
            "구구단 : 3*1=3입니다.\n",
            "구구단 : 3*2=6입니다.\n",
            "구구단 : 3*3=9입니다.\n",
            "구구단 : 3*4=12입니다.\n",
            "구구단 : 3*5=15입니다.\n",
            "구구단 : 3*6=18입니다.\n",
            "구구단 : 3*7=21입니다.\n",
            "구구단 : 3*8=24입니다.\n",
            "구구단 : 3*9=27입니다.\n",
            "----------4----------\n",
            "구구단 : 4*1=4입니다.\n",
            "구구단 : 4*2=8입니다.\n",
            "구구단 : 4*3=12입니다.\n",
            "구구단 : 4*4=16입니다.\n",
            "구구단 : 4*5=20입니다.\n",
            "구구단 : 4*6=24입니다.\n",
            "구구단 : 4*7=28입니다.\n",
            "구구단 : 4*8=32입니다.\n",
            "구구단 : 4*9=36입니다.\n",
            "----------5----------\n",
            "구구단 : 5*1=5입니다.\n",
            "구구단 : 5*2=10입니다.\n",
            "구구단 : 5*3=15입니다.\n",
            "구구단 : 5*4=20입니다.\n",
            "구구단 : 5*5=25입니다.\n",
            "구구단 : 5*6=30입니다.\n",
            "구구단 : 5*7=35입니다.\n",
            "구구단 : 5*8=40입니다.\n",
            "구구단 : 5*9=45입니다.\n",
            "----------6----------\n",
            "구구단 : 6*1=6입니다.\n",
            "구구단 : 6*2=12입니다.\n",
            "구구단 : 6*3=18입니다.\n",
            "구구단 : 6*4=24입니다.\n",
            "구구단 : 6*5=30입니다.\n",
            "구구단 : 6*6=36입니다.\n",
            "구구단 : 6*7=42입니다.\n",
            "구구단 : 6*8=48입니다.\n",
            "구구단 : 6*9=54입니다.\n",
            "----------7----------\n",
            "구구단 : 7*1=7입니다.\n",
            "구구단 : 7*2=14입니다.\n",
            "구구단 : 7*3=21입니다.\n",
            "구구단 : 7*4=28입니다.\n",
            "구구단 : 7*5=35입니다.\n",
            "구구단 : 7*6=42입니다.\n",
            "구구단 : 7*7=49입니다.\n",
            "구구단 : 7*8=56입니다.\n",
            "구구단 : 7*9=63입니다.\n",
            "----------8----------\n",
            "구구단 : 8*1=8입니다.\n",
            "구구단 : 8*2=16입니다.\n",
            "구구단 : 8*3=24입니다.\n",
            "구구단 : 8*4=32입니다.\n",
            "구구단 : 8*5=40입니다.\n",
            "구구단 : 8*6=48입니다.\n",
            "구구단 : 8*7=56입니다.\n",
            "구구단 : 8*8=64입니다.\n",
            "구구단 : 8*9=72입니다.\n",
            "----------9----------\n",
            "구구단 : 9*1=9입니다.\n",
            "구구단 : 9*2=18입니다.\n",
            "구구단 : 9*3=27입니다.\n",
            "구구단 : 9*4=36입니다.\n",
            "구구단 : 9*5=45입니다.\n",
            "구구단 : 9*6=54입니다.\n",
            "구구단 : 9*7=63입니다.\n",
            "구구단 : 9*8=72입니다.\n",
            "구구단 : 9*9=81입니다.\n"
          ]
        }
      ]
    },
    {
      "cell_type": "code",
      "source": [
        "exam=[60,80,95,69,90,81,80,69,79,66,70,90,96]"
      ],
      "metadata": {
        "id": "_5TAahpXp7K3"
      },
      "execution_count": 3,
      "outputs": []
    },
    {
      "cell_type": "code",
      "source": [
        "exam"
      ],
      "metadata": {
        "id": "wUNgiKELqEaF",
        "outputId": "299fddff-29a5-466a-cebd-c12ce1500599",
        "colab": {
          "base_uri": "https://localhost:8080/"
        }
      },
      "execution_count": 4,
      "outputs": [
        {
          "output_type": "execute_result",
          "data": {
            "text/plain": [
              "[60, 80, 95, 69, 90, 81, 80, 69, 79, 66, 70, 90, 96]"
            ]
          },
          "metadata": {},
          "execution_count": 4
        }
      ]
    },
    {
      "cell_type": "code",
      "source": [
        "exsize = len(exam)\n",
        "## for i in exam:\n",
        "##  if i > 89: ~\n",
        "for i in range(exsize):\n",
        "    if exam[i] >89:\n",
        "        ans = 'A'\n",
        "    elif exam[i] >79:\n",
        "        ans = 'B'\n",
        "    elif exam[i] > 69:\n",
        "        ans = 'C'\n",
        "    elif exam[i] > 59:\n",
        "        ans = 'D'\n",
        "    else:\n",
        "        ans = \"F\"\n",
        "    print('당신의 성적은',exam[i],'이므로 점수는 ',ans,'입니다.')"
      ],
      "metadata": {
        "id": "1UiVDQ9XqN98",
        "outputId": "7215982f-f7bc-4c5d-cd5e-9661f52772ad",
        "colab": {
          "base_uri": "https://localhost:8080/"
        }
      },
      "execution_count": 5,
      "outputs": [
        {
          "output_type": "stream",
          "name": "stdout",
          "text": [
            "당신의 성적은 60 이므로 점수는  D 입니다.\n",
            "당신의 성적은 80 이므로 점수는  B 입니다.\n",
            "당신의 성적은 95 이므로 점수는  A 입니다.\n",
            "당신의 성적은 69 이므로 점수는  D 입니다.\n",
            "당신의 성적은 90 이므로 점수는  A 입니다.\n",
            "당신의 성적은 81 이므로 점수는  B 입니다.\n",
            "당신의 성적은 80 이므로 점수는  B 입니다.\n",
            "당신의 성적은 69 이므로 점수는  D 입니다.\n",
            "당신의 성적은 79 이므로 점수는  C 입니다.\n",
            "당신의 성적은 66 이므로 점수는  D 입니다.\n",
            "당신의 성적은 70 이므로 점수는  C 입니다.\n",
            "당신의 성적은 90 이므로 점수는  A 입니다.\n",
            "당신의 성적은 96 이므로 점수는  A 입니다.\n"
          ]
        }
      ]
    },
    {
      "cell_type": "code",
      "source": [
        "storage = 0\n",
        "for i in range(1,11):\n",
        "    storage += i\n",
        "    print(\"i의 값 :\",i,\",\",\"합계 :\",storage )"
      ],
      "metadata": {
        "id": "_MBjj6DOrwZt",
        "outputId": "618c7716-09bd-4a80-9b85-84ca79983059",
        "colab": {
          "base_uri": "https://localhost:8080/"
        }
      },
      "execution_count": null,
      "outputs": [
        {
          "output_type": "stream",
          "name": "stdout",
          "text": [
            "i의 값 : 1 , 합계 : 1\n",
            "i의 값 : 2 , 합계 : 3\n",
            "i의 값 : 3 , 합계 : 6\n",
            "i의 값 : 4 , 합계 : 10\n",
            "i의 값 : 5 , 합계 : 15\n",
            "i의 값 : 6 , 합계 : 21\n",
            "i의 값 : 7 , 합계 : 28\n",
            "i의 값 : 8 , 합계 : 36\n",
            "i의 값 : 9 , 합계 : 45\n",
            "i의 값 : 10 , 합계 : 55\n"
          ]
        }
      ]
    },
    {
      "cell_type": "code",
      "source": [
        "it = 15000\n",
        "## input에 대한 cin 처리.\n",
        "if it >= 10000:\n",
        "    print(\"구매가능\")\n",
        "else:\n",
        "    print(\"구매 불가능\")"
      ],
      "metadata": {
        "id": "4fvdFi--uUBQ",
        "outputId": "cff88112-d4f3-4417-e4b2-110e367540d7",
        "colab": {
          "base_uri": "https://localhost:8080/"
        }
      },
      "execution_count": null,
      "outputs": [
        {
          "output_type": "stream",
          "name": "stdout",
          "text": [
            "구매가능\n"
          ]
        }
      ]
    },
    {
      "cell_type": "code",
      "source": [
        "del input"
      ],
      "metadata": {
        "id": "GyjkYrnAwyys"
      },
      "execution_count": null,
      "outputs": []
    },
    {
      "cell_type": "code",
      "source": [
        "## input cin 처리.\n",
        "x = int(input('price : ' ))\n",
        "##\n",
        "if x >= 10000:\n",
        "    print (('당신은 {}원이 있으므로 {}개').format(x,int(x/10000)))\n",
        "    print(\"구매가능\")\n",
        "else:\n",
        "    print(\"구매 불가능\")"
      ],
      "metadata": {
        "id": "f2df0Fo3vMeB",
        "outputId": "b14dfb7a-d85f-4c92-8b6e-c73272bde820",
        "colab": {
          "base_uri": "https://localhost:8080/"
        }
      },
      "execution_count": 10,
      "outputs": [
        {
          "output_type": "stream",
          "name": "stdout",
          "text": [
            "price : 120000\n",
            "당신은 120000원이 있으므로 12개\n",
            "구매가능\n"
          ]
        }
      ]
    },
    {
      "cell_type": "code",
      "source": [
        "HG = input('학과 : ')\n",
        "age = input('나이 :')\n",
        "name = input('이름 : ')\n",
        "HE = input('키 : ')\n",
        "print(('저는 {}학과이고 이름은{}, 저의 나이는 {}이고 키는 {}입니다.').format(HG,age,name,HE))"
      ],
      "metadata": {
        "id": "lI1OQdVlGiUj",
        "outputId": "2e5a1383-6b30-41ad-b6c5-1ec8bc56dd8f",
        "colab": {
          "base_uri": "https://localhost:8080/"
        }
      },
      "execution_count": 6,
      "outputs": [
        {
          "output_type": "stream",
          "name": "stdout",
          "text": [
            "학과 : AI\n",
            "나이 :JH\n",
            "이름 : 25\n",
            "키 : 177\n",
            "저는 AI학과이고 이름은JH, 저의 나이는 25이고 키는 177입니다.\n"
          ]
        }
      ]
    },
    {
      "cell_type": "code",
      "source": [
        "grades = [85,90,92,78,80,95]\n",
        "sum = 0\n",
        "for i in grades:\n",
        "    sum+=i\n",
        "sum/=len(grades)\n",
        "if sum >= 85:\n",
        "    print('합격') \n",
        "    print(sum)\n",
        "else:\n",
        "    print('불합격')   \n",
        "    print(sum)"
      ],
      "metadata": {
        "id": "6I1M79KcyEXn",
        "outputId": "ee26d984-cea4-45d9-e5ff-464c52b43cba",
        "colab": {
          "base_uri": "https://localhost:8080/"
        }
      },
      "execution_count": 11,
      "outputs": [
        {
          "output_type": "stream",
          "name": "stdout",
          "text": [
            "합격\n",
            "86.66666666666667\n"
          ]
        }
      ]
    }
  ]
}