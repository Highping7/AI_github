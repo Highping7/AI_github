{
  "nbformat": 4,
  "nbformat_minor": 0,
  "metadata": {
    "colab": {
      "provenance": [],
      "include_colab_link": true
    },
    "kernelspec": {
      "name": "python3",
      "display_name": "Python 3"
    },
    "language_info": {
      "name": "python"
    }
  },
  "cells": [
    {
      "cell_type": "markdown",
      "metadata": {
        "id": "view-in-github",
        "colab_type": "text"
      },
      "source": [
        "<a href=\"https://colab.research.google.com/github/Highping7/AI_github/blob/main/0411%EC%88%98%EC%97%85_%EB%AC%B8%EC%A0%9C.ipynb\" target=\"_parent\"><img src=\"https://colab.research.google.com/assets/colab-badge.svg\" alt=\"Open In Colab\"/></a>"
      ]
    },
    {
      "cell_type": "markdown",
      "source": [
        "##a라는 변수에 숫자 20을 할당하고, b라는 변수에 숫자 30을 할당해 a와 b의 합을 프린트하시오"
      ],
      "metadata": {
        "id": "UH86qe8ROgA2"
      }
    },
    {
      "cell_type": "code",
      "source": [
        "a=20\n",
        "b=30\n",
        "print(a+b)"
      ],
      "metadata": {
        "colab": {
          "base_uri": "https://localhost:8080/"
        },
        "id": "5iutb_zrOQB0",
        "outputId": "08643d2a-e96e-48dd-cbe6-37761e613d2a"
      },
      "execution_count": 2,
      "outputs": [
        {
          "output_type": "stream",
          "name": "stdout",
          "text": [
            "50\n"
          ]
        }
      ]
    },
    {
      "cell_type": "markdown",
      "source": [
        "##아래의 문장을 변수에 저장하고 저장된 변수에서 인공지능이라는 단어만 프린트하시오\n",
        "\n",
        "*   안녕하세요 인공지능 수업에 오신것을 환영합니다. "
      ],
      "metadata": {
        "id": "QHKJX5ghOfjr"
      }
    },
    {
      "cell_type": "code",
      "source": [
        "let = \"안녕하세요 인공지능 수업에 오신것을 환영합니다.\""
      ],
      "metadata": {
        "id": "G00R5VXpOuJs"
      },
      "execution_count": 3,
      "outputs": []
    },
    {
      "cell_type": "code",
      "source": [
        "let[6:10]"
      ],
      "metadata": {
        "colab": {
          "base_uri": "https://localhost:8080/",
          "height": 35
        },
        "id": "LE7FlhLkOP_X",
        "outputId": "1658bee4-552c-410f-cade-b5f12dfc2063"
      },
      "execution_count": 5,
      "outputs": [
        {
          "output_type": "execute_result",
          "data": {
            "text/plain": [
              "'인공지능'"
            ],
            "application/vnd.google.colaboratory.intrinsic+json": {
              "type": "string"
            }
          },
          "metadata": {},
          "execution_count": 5
        }
      ]
    },
    {
      "cell_type": "markdown",
      "source": [
        "##특정 문자를 입력받아 변수로 저장하는 방법으로 자신의 이름을 입력후 저장하고, 아래의 문장과 같이 format을 사용해 프린트 하시오"
      ],
      "metadata": {
        "id": "YyOPq28gPFa2"
      }
    },
    {
      "cell_type": "code",
      "source": [
        "name = input(\"이름 : \")\n",
        "print((\"안녕하세요 {}님 인공지능 수업에 오신것을 환영합니다.\").format(\"name\"))"
      ],
      "metadata": {
        "colab": {
          "base_uri": "https://localhost:8080/"
        },
        "id": "vR-ZST6kOP8p",
        "outputId": "4eaa84ed-8ec3-4a5d-978e-1bf606479892"
      },
      "execution_count": null,
      "outputs": [
        {
          "output_type": "stream",
          "name": "stdout",
          "text": [
            "김창균\n",
            "안녕하세요 김창균님 인공지능 수업에 오신것을 환영합니다.\n"
          ]
        }
      ]
    },
    {
      "cell_type": "markdown",
      "source": [
        "#아래의 값들을 하나의 리스트에 저장하고, 리스트를 프린트하시오\n",
        "\n",
        "\n",
        "*   1,5,5,7,3,6,88,12,5,74,4,8,64,2,7,89,33,1,6,8,1,5,6,7\n"
      ],
      "metadata": {
        "id": "P4qBWf5nPxnk"
      }
    },
    {
      "cell_type": "code",
      "source": [
        "lis = [1,5,5,7,3,6,88,12,5,74,4,8,64,2,7,89,33,1,6,8,1,5,6,7]\n",
        "lis"
      ],
      "metadata": {
        "colab": {
          "base_uri": "https://localhost:8080/"
        },
        "id": "xpNvlAPjOP5l",
        "outputId": "6c0315f3-ba77-4cb5-f572-53af57a75db7"
      },
      "execution_count": 6,
      "outputs": [
        {
          "output_type": "execute_result",
          "data": {
            "text/plain": [
              "[1, 5, 5, 7, 3, 6, 88, 12, 5, 74, 4, 8, 64, 2, 7, 89, 33, 1, 6, 8, 1, 5, 6, 7]"
            ]
          },
          "metadata": {},
          "execution_count": 6
        }
      ]
    },
    {
      "cell_type": "markdown",
      "source": [
        "#위에서 저장된 리스트 값중 88에 해당하는 리스트의 위치 index를 도출하시오"
      ],
      "metadata": {
        "id": "XZKVY-RKQFXs"
      }
    },
    {
      "cell_type": "code",
      "source": [
        "print(lis.index(88))\n",
        "lis[lis.index(88)]"
      ],
      "metadata": {
        "colab": {
          "base_uri": "https://localhost:8080/"
        },
        "id": "XATdVchKOP2z",
        "outputId": "a61f0fcd-bef8-45cb-8815-e25bc68a3987"
      },
      "execution_count": 9,
      "outputs": [
        {
          "output_type": "stream",
          "name": "stdout",
          "text": [
            "6\n"
          ]
        },
        {
          "output_type": "execute_result",
          "data": {
            "text/plain": [
              "88"
            ]
          },
          "metadata": {},
          "execution_count": 9
        }
      ]
    },
    {
      "cell_type": "markdown",
      "source": [
        "##주어진 이름 Jone-30, Park-30, Kim-20, Lee-10, Oh-32, Kang-25을 name이란 리스트를 만들고 Lee를 가진 사람의 성만 따로 도출하시오"
      ],
      "metadata": {
        "id": "IeCbj6RdS7XI"
      }
    },
    {
      "cell_type": "code",
      "source": [
        "vil = [\"Jone-30\", \"Park-30\", \"Kim-20\", \"Lee-10\", \"Oh-32\", \"Kang-25\"]\n",
        "for i in vil:\n",
        "  if \"Lee\" in i:\n",
        "    print(i[:i.index(\"-\")])"
      ],
      "metadata": {
        "colab": {
          "base_uri": "https://localhost:8080/"
        },
        "id": "i39jh9MTS9es",
        "outputId": "a300d8c0-809d-426b-ec35-d1476b3600b2"
      },
      "execution_count": 10,
      "outputs": [
        {
          "output_type": "stream",
          "name": "stdout",
          "text": [
            "Lee\n"
          ]
        }
      ]
    },
    {
      "cell_type": "markdown",
      "source": [
        "##주어진 이름 Jone-30, Park-30, Kim-20, Lee-10, Oh-32, Kang-25 을 name이란 리스트를 만들고 리스트의 형태를 Jone/30 ....  와 같이 모두 변경하고 프린트하시오"
      ],
      "metadata": {
        "id": "cnrO1vz2R4K9"
      }
    },
    {
      "cell_type": "code",
      "source": [
        "i = 0\n",
        "while 1:\n",
        "  vil[i] = vil[i].replace('-','/')\n",
        "  i+=1\n",
        "  if (i == len(vil)):\n",
        "    break\n",
        "vil"
      ],
      "metadata": {
        "colab": {
          "base_uri": "https://localhost:8080/"
        },
        "id": "Y_9vKC0ER35o",
        "outputId": "cbff0e2c-a9b0-4180-942c-dbc4b825e40e"
      },
      "execution_count": 21,
      "outputs": [
        {
          "output_type": "execute_result",
          "data": {
            "text/plain": [
              "['Jone/30', 'Park/30', 'Kim/20', 'Lee/10', 'Oh/32', 'Kang/25']"
            ]
          },
          "metadata": {},
          "execution_count": 21
        }
      ]
    },
    {
      "cell_type": "markdown",
      "source": [
        "##하나의 폴더에 아래와 같은 형식을 가진 파일들이 있다. 이때 jpg와 png파일만 뽑아 리스트로 프린트하시오 만약에 jpg와 png파일이 아닐 경우 아래와 같이 프린트하시오\n",
        "\n",
        "\n",
        "\n",
        "*   dog.png, dog2.png, dog3.jpg, test.pdf, file.py, homework.pptx, jpg.pptx, png2.pptx\n",
        "\n",
        "\n",
        "*   test.pdf은 jpg, png파일에 포함되지 않습니다.\n",
        "\n"
      ],
      "metadata": {
        "id": "PPBQ6SaJTUP1"
      }
    },
    {
      "cell_type": "code",
      "source": [
        "folder = ['dog.png', 'dog2.png', 'dog3.jpg', 'test.pdf', 'file.py', 'homework.pptx', 'jpg.pptx', 'png2.pptx']\n",
        "pict = []\n",
        "for i in folder:\n",
        "  if \".jpg\" not in i and \".png\" not in i:\n",
        "    print((\"{}은 jpg.png파일에 포함되지 않습니다.\").format(i))\n",
        "  else:\n",
        "    pict.append(i)\n",
        "pict"
      ],
      "metadata": {
        "colab": {
          "base_uri": "https://localhost:8080/"
        },
        "id": "epbMUjevT2Vf",
        "outputId": "ceabb2c4-f753-4365-fa27-c8212fa7c439"
      },
      "execution_count": 25,
      "outputs": [
        {
          "output_type": "stream",
          "name": "stdout",
          "text": [
            "test.pdf은 jpg.png파일에 포함되지 않습니다.\n",
            "file.py은 jpg.png파일에 포함되지 않습니다.\n",
            "homework.pptx은 jpg.png파일에 포함되지 않습니다.\n",
            "jpg.pptx은 jpg.png파일에 포함되지 않습니다.\n",
            "png2.pptx은 jpg.png파일에 포함되지 않습니다.\n"
          ]
        },
        {
          "output_type": "execute_result",
          "data": {
            "text/plain": [
              "['dog.png', 'dog2.png', 'dog3.jpg']"
            ]
          },
          "metadata": {},
          "execution_count": 25
        }
      ]
    },
    {
      "cell_type": "markdown",
      "source": [
        "##위의 리스트에서 50보다 큰 숫자들만 뽑아 하나의 리스트에 저장하고 프린트하고 50보다 작은 숫자들은 또다른 리스트에 저장하시오"
      ],
      "metadata": {
        "id": "MVblcgXhQYI4"
      }
    },
    {
      "cell_type": "code",
      "source": [],
      "metadata": {
        "id": "gh9s8H0iOPwd"
      },
      "execution_count": null,
      "outputs": []
    },
    {
      "cell_type": "code",
      "source": [
        "big= []\n",
        "smal = []\n",
        "lt = []\n",
        "\n",
        "for i in lt:\n",
        "  if i>50:\n",
        "    big.append(i)\n",
        "  else:\n",
        "    smal.append(i)\n",
        "print(big)\n",
        "print(smal)"
      ],
      "metadata": {
        "colab": {
          "base_uri": "https://localhost:8080/"
        },
        "id": "oMujfbi-RWey",
        "outputId": "aab83608-0e32-4d2a-f9a3-b216ad3ec206"
      },
      "execution_count": null,
      "outputs": [
        {
          "output_type": "stream",
          "name": "stdout",
          "text": [
            "[88, 74, 64, 89]\n",
            "[1, 5, 5, 7, 3, 6, 12, 5, 4, 8, 2, 7, 33, 1, 6, 8, 1, 5, 6, 7]\n"
          ]
        }
      ]
    },
    {
      "cell_type": "markdown",
      "source": [
        "##하나의 빈 리스트를 만들고 아래의 값을 넣었을때 양수이면 빈 리스트에 추가하고 음수이면 이를 무시해 양수만 저장되어 있는 리스트의 값들을 모두 더해 프린트해라(while, if, continue사용)\n",
        "\n",
        "\n",
        "*   20,50,51,6,74,2,67,-5,-10,-50,-56,-19,55"
      ],
      "metadata": {
        "id": "jeYQ5NsWRkcm"
      }
    },
    {
      "cell_type": "code",
      "source": [
        "emp = []\n",
        "lt2 = [20,50,51,6,74,2,67,-5,-10,-50,-56,-19,55]\n",
        "i=0\n",
        "while 1:\n",
        "  if lt2[i]<0:\n",
        "    i+=1\n",
        "    continue\n",
        "  else:\n",
        "    emp.append(lt2[i])\n",
        "  i+=1\n",
        "  if (i == len(lt2)):\n",
        "    break\n",
        "print(\"입력한 숫자의 모든 합은 : \",sum(emp))"
      ],
      "metadata": {
        "colab": {
          "base_uri": "https://localhost:8080/"
        },
        "id": "vtUGoFxuRajG",
        "outputId": "71cae36f-7d01-42b3-867f-3cbc9594d132"
      },
      "execution_count": 29,
      "outputs": [
        {
          "output_type": "stream",
          "name": "stdout",
          "text": [
            "입력한 숫자의 모든 합은 :  325\n"
          ]
        }
      ]
    },
    {
      "cell_type": "markdown",
      "source": [
        "##3개의 값을 넣었을때 값들을 모두 제곱해 더한 결과를 도출하는 함수를 만드시오  "
      ],
      "metadata": {
        "id": "4Hb8q-jDXA18"
      }
    },
    {
      "cell_type": "code",
      "source": [
        "def mypow(v11,v22,v33):\n",
        "  v11 *= v11\n",
        "  v22 *= v22\n",
        "  v33 *= v33\n",
        "  return v11+v22+v33\n",
        "  "
      ],
      "metadata": {
        "id": "37Rtaw23XUQ1"
      },
      "execution_count": 31,
      "outputs": []
    },
    {
      "cell_type": "code",
      "source": [
        "v1 = float(input())\n",
        "v2 = float(input())\n",
        "v3 = float(input())\n",
        "mypow(v1,v2,v3)\n"
      ],
      "metadata": {
        "colab": {
          "base_uri": "https://localhost:8080/"
        },
        "id": "OVWpgUUCXcRn",
        "outputId": "33bdb222-3426-43fe-f490-1c93dababd63"
      },
      "execution_count": 33,
      "outputs": [
        {
          "name": "stdout",
          "output_type": "stream",
          "text": [
            "1\n",
            "2\n",
            "3\n"
          ]
        },
        {
          "output_type": "execute_result",
          "data": {
            "text/plain": [
              "14.0"
            ]
          },
          "metadata": {},
          "execution_count": 33
        }
      ]
    },
    {
      "cell_type": "code",
      "source": [
        "mypow(1,2,3)"
      ],
      "metadata": {
        "id": "HVBYlYzZAJLy",
        "outputId": "7aa8107d-7a8f-4672-cc50-1b721a9ee55a",
        "colab": {
          "base_uri": "https://localhost:8080/"
        }
      },
      "execution_count": 50,
      "outputs": [
        {
          "output_type": "execute_result",
          "data": {
            "text/plain": [
              "14"
            ]
          },
          "metadata": {},
          "execution_count": 50
        }
      ]
    },
    {
      "cell_type": "code",
      "source": [
        "menu = {\"햄버거\": 15000, \"피자\":22000, \"음료\":2000,\"감자튀김\":5000}\n",
        "price = 0\n",
        "print(\"어서오세요 Ai 식당입니다.\")\n",
        "while 1:\n",
        "  for i,j in menu.items():\n",
        "    print((\"{}: {}원\").format(i,j))\n",
        "  ord = input(\"구매하고 싶은 품목을 선택해주세요 (ore done to exit) :\"  )\n",
        "  print(\"----------------------------------------------\")\n",
        "  if ord == \"done\":\n",
        "    break\n",
        "  num = int(input(\"구매하실 수량을 입력해주세요\"))\n",
        "  price += menu.get(ord)*num\n",
        "  print((\"현재 총 구매 금액은 {}원 입니다.\").format(price))\n",
        "  print(\"----------------------------------------------\")\n",
        "  print(\"구매하고 싶은 품목을 선택해주세요 (ore done to exit) :\"  )\n",
        "  print(\"----------------------------------------------\")\n",
        "print((\"귀하의 총 구매금액은 {}원 입니다\").format(price))\n",
        "\n",
        "mon = int(input(\"금액을 투입하세요 : \"))\n",
        "if mon >= price:\n",
        "  print((\"투입금액은 {}원 이고, 거스름돈은 {}원 입니다.\").format(mon, mon-price))\n",
        "  print(\"감사합니다. 안녕히 가세요.\")\n",
        "else:\n",
        "  print(\"주문이 취소되었습니다.\")\n",
        "  print(\"메인 화면으로 돌아갑니다.\")\n"
      ],
      "metadata": {
        "colab": {
          "base_uri": "https://localhost:8080/",
          "height": 492
        },
        "id": "_Ex1mhEElWfo",
        "outputId": "0906324a-ac62-427e-e353-4da0bc1b8152"
      },
      "execution_count": 52,
      "outputs": [
        {
          "output_type": "stream",
          "name": "stdout",
          "text": [
            "어서오세요 Ai 식당입니다.\n",
            "햄버거: 15000원\n",
            "피자: 22000원\n",
            "음료: 2000원\n",
            "감자튀김: 5000원\n"
          ]
        },
        {
          "output_type": "error",
          "ename": "KeyboardInterrupt",
          "evalue": "ignored",
          "traceback": [
            "\u001b[0;31m---------------------------------------------------------------------------\u001b[0m",
            "\u001b[0;31mKeyboardInterrupt\u001b[0m                         Traceback (most recent call last)",
            "\u001b[0;32m<ipython-input-52-c1ee41c18f63>\u001b[0m in \u001b[0;36m<cell line: 5>\u001b[0;34m()\u001b[0m\n\u001b[1;32m      5\u001b[0m   \u001b[0;32mfor\u001b[0m \u001b[0mi\u001b[0m\u001b[0;34m,\u001b[0m\u001b[0mj\u001b[0m \u001b[0;32min\u001b[0m \u001b[0mmenu\u001b[0m\u001b[0;34m.\u001b[0m\u001b[0mitems\u001b[0m\u001b[0;34m(\u001b[0m\u001b[0;34m)\u001b[0m\u001b[0;34m:\u001b[0m\u001b[0;34m\u001b[0m\u001b[0;34m\u001b[0m\u001b[0m\n\u001b[1;32m      6\u001b[0m     \u001b[0mprint\u001b[0m\u001b[0;34m(\u001b[0m\u001b[0;34m(\u001b[0m\u001b[0;34m\"{}: {}원\"\u001b[0m\u001b[0;34m)\u001b[0m\u001b[0;34m.\u001b[0m\u001b[0mformat\u001b[0m\u001b[0;34m(\u001b[0m\u001b[0mi\u001b[0m\u001b[0;34m,\u001b[0m\u001b[0mj\u001b[0m\u001b[0;34m)\u001b[0m\u001b[0;34m)\u001b[0m\u001b[0;34m\u001b[0m\u001b[0;34m\u001b[0m\u001b[0m\n\u001b[0;32m----> 7\u001b[0;31m   \u001b[0mord\u001b[0m \u001b[0;34m=\u001b[0m \u001b[0minput\u001b[0m\u001b[0;34m(\u001b[0m\u001b[0;34m\"구매하고 싶은 품목을 선택해주세요 (ore done to exit) :\"\u001b[0m  \u001b[0;34m)\u001b[0m\u001b[0;34m\u001b[0m\u001b[0;34m\u001b[0m\u001b[0m\n\u001b[0m\u001b[1;32m      8\u001b[0m   \u001b[0mprint\u001b[0m\u001b[0;34m(\u001b[0m\u001b[0;34m\"----------------------------------------------\"\u001b[0m\u001b[0;34m)\u001b[0m\u001b[0;34m\u001b[0m\u001b[0;34m\u001b[0m\u001b[0m\n\u001b[1;32m      9\u001b[0m   \u001b[0;32mif\u001b[0m \u001b[0mord\u001b[0m \u001b[0;34m==\u001b[0m \u001b[0;34m\"done\"\u001b[0m\u001b[0;34m:\u001b[0m\u001b[0;34m\u001b[0m\u001b[0;34m\u001b[0m\u001b[0m\n",
            "\u001b[0;32m/usr/local/lib/python3.9/dist-packages/ipykernel/kernelbase.py\u001b[0m in \u001b[0;36mraw_input\u001b[0;34m(self, prompt)\u001b[0m\n\u001b[1;32m    849\u001b[0m                 \u001b[0;34m\"raw_input was called, but this frontend does not support input requests.\"\u001b[0m\u001b[0;34m\u001b[0m\u001b[0;34m\u001b[0m\u001b[0m\n\u001b[1;32m    850\u001b[0m             )\n\u001b[0;32m--> 851\u001b[0;31m         return self._input_request(str(prompt),\n\u001b[0m\u001b[1;32m    852\u001b[0m             \u001b[0mself\u001b[0m\u001b[0;34m.\u001b[0m\u001b[0m_parent_ident\u001b[0m\u001b[0;34m,\u001b[0m\u001b[0;34m\u001b[0m\u001b[0;34m\u001b[0m\u001b[0m\n\u001b[1;32m    853\u001b[0m             \u001b[0mself\u001b[0m\u001b[0;34m.\u001b[0m\u001b[0m_parent_header\u001b[0m\u001b[0;34m,\u001b[0m\u001b[0;34m\u001b[0m\u001b[0;34m\u001b[0m\u001b[0m\n",
            "\u001b[0;32m/usr/local/lib/python3.9/dist-packages/ipykernel/kernelbase.py\u001b[0m in \u001b[0;36m_input_request\u001b[0;34m(self, prompt, ident, parent, password)\u001b[0m\n\u001b[1;32m    893\u001b[0m             \u001b[0;32mexcept\u001b[0m \u001b[0mKeyboardInterrupt\u001b[0m\u001b[0;34m:\u001b[0m\u001b[0;34m\u001b[0m\u001b[0;34m\u001b[0m\u001b[0m\n\u001b[1;32m    894\u001b[0m                 \u001b[0;31m# re-raise KeyboardInterrupt, to truncate traceback\u001b[0m\u001b[0;34m\u001b[0m\u001b[0;34m\u001b[0m\u001b[0m\n\u001b[0;32m--> 895\u001b[0;31m                 \u001b[0;32mraise\u001b[0m \u001b[0mKeyboardInterrupt\u001b[0m\u001b[0;34m(\u001b[0m\u001b[0;34m\"Interrupted by user\"\u001b[0m\u001b[0;34m)\u001b[0m \u001b[0;32mfrom\u001b[0m \u001b[0;32mNone\u001b[0m\u001b[0;34m\u001b[0m\u001b[0;34m\u001b[0m\u001b[0m\n\u001b[0m\u001b[1;32m    896\u001b[0m             \u001b[0;32mexcept\u001b[0m \u001b[0mException\u001b[0m \u001b[0;32mas\u001b[0m \u001b[0me\u001b[0m\u001b[0;34m:\u001b[0m\u001b[0;34m\u001b[0m\u001b[0;34m\u001b[0m\u001b[0m\n\u001b[1;32m    897\u001b[0m                 \u001b[0mself\u001b[0m\u001b[0;34m.\u001b[0m\u001b[0mlog\u001b[0m\u001b[0;34m.\u001b[0m\u001b[0mwarning\u001b[0m\u001b[0;34m(\u001b[0m\u001b[0;34m\"Invalid Message:\"\u001b[0m\u001b[0;34m,\u001b[0m \u001b[0mexc_info\u001b[0m\u001b[0;34m=\u001b[0m\u001b[0;32mTrue\u001b[0m\u001b[0;34m)\u001b[0m\u001b[0;34m\u001b[0m\u001b[0;34m\u001b[0m\u001b[0m\n",
            "\u001b[0;31mKeyboardInterrupt\u001b[0m: Interrupted by user"
          ]
        }
      ]
    },
    {
      "cell_type": "code",
      "source": [],
      "metadata": {
        "id": "rXYbsn-qqOCq"
      },
      "execution_count": null,
      "outputs": []
    },
    {
      "cell_type": "markdown",
      "source": [
        "## 액정 파손 -10000, 카메라 문제 -50000, 터치불량 -10000 이라 할때 핸드폰 가격을 입력했을 때 조건에 따라 가격을 책정해주는 함수를 만드시오"
      ],
      "metadata": {
        "id": "SwHw68cYGIjn"
      }
    },
    {
      "cell_type": "code",
      "source": [
        "def phone(pr):\n",
        "    sale = {\"액정파손\":10000,\"카메라\":50000,\"터치불량\":10000}\n",
        "    while 1:\n",
        "        print(sale)\n",
        "        inp = input(\"어떤 문제가 있나요 ? (f 입력시 종료)  :  \")\n",
        "        if inp == \"f\":\n",
        "            print(\"exiting the programs...\")\n",
        "            break\n",
        "        else:\n",
        "            pr-= sale.get(inp)\n",
        "    return pr;\n",
        "phone(200000)"
      ],
      "metadata": {
        "id": "Syec69V6zOQj",
        "outputId": "29acdbe6-6070-426d-9f9f-738b290dfb7e",
        "colab": {
          "base_uri": "https://localhost:8080/"
        }
      },
      "execution_count": 41,
      "outputs": [
        {
          "output_type": "stream",
          "name": "stdout",
          "text": [
            "{'액정파손': 10000, '카메라': 50000, '터치불량': 10000}\n",
            "어떤 문제가 있나요 ? (f 입력시 종료)  :  f\n",
            "exiting the programs...\n"
          ]
        },
        {
          "output_type": "execute_result",
          "data": {
            "text/plain": [
              "200000"
            ]
          },
          "metadata": {},
          "execution_count": 41
        }
      ]
    },
    {
      "cell_type": "markdown",
      "source": [
        "##위의 문제를 함수에 *args를 써서 액정파손, 카메라 문제, 터치불량에 대해 가격을 책정할 수 있게 만드시오"
      ],
      "metadata": {
        "id": "Q0cpJmS0JAMs"
      }
    },
    {
      "cell_type": "code",
      "source": [
        "sale = {\"액정파손\":10000,\"카메라\":50000,\"터치불량\":10000}\n",
        "def phone2(*args, price2):\n",
        "  for i in args:\n",
        "    if sale.get(i):\n",
        "      price2-= sale.get(i)\n",
        "  print(price2)"
      ],
      "metadata": {
        "id": "FgKBkV1f0WeK"
      },
      "execution_count": 47,
      "outputs": []
    },
    {
      "cell_type": "code",
      "source": [
        "phone2(\"액정파손\",\"카메라\", price2=500000)"
      ],
      "metadata": {
        "colab": {
          "base_uri": "https://localhost:8080/"
        },
        "id": "6V5sVTAZQGZe",
        "outputId": "9b441a08-693a-433e-e077-78dc04a4fb92"
      },
      "execution_count": 49,
      "outputs": [
        {
          "output_type": "stream",
          "name": "stdout",
          "text": [
            "440000\n"
          ]
        }
      ]
    },
    {
      "cell_type": "code",
      "source": [],
      "metadata": {
        "id": "xBTz-xb_XrA2"
      },
      "execution_count": null,
      "outputs": []
    },
    {
      "cell_type": "code",
      "source": [],
      "metadata": {
        "id": "aCQ3YniCXq-k"
      },
      "execution_count": null,
      "outputs": []
    }
  ]
}