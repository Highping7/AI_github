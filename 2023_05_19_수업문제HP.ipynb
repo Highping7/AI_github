{
  "nbformat": 4,
  "nbformat_minor": 0,
  "metadata": {
    "colab": {
      "provenance": [],
      "include_colab_link": true
    },
    "kernelspec": {
      "name": "python3",
      "display_name": "Python 3"
    },
    "language_info": {
      "name": "python"
    }
  },
  "cells": [
    {
      "cell_type": "markdown",
      "metadata": {
        "id": "view-in-github",
        "colab_type": "text"
      },
      "source": [
        "<a href=\"https://colab.research.google.com/github/Highping7/AI_github/blob/main/2023_05_19_%EC%88%98%EC%97%85%EB%AC%B8%EC%A0%9CHP.ipynb\" target=\"_parent\"><img src=\"https://colab.research.google.com/assets/colab-badge.svg\" alt=\"Open In Colab\"/></a>"
      ]
    },
    {
      "cell_type": "markdown",
      "source": [
        "#특정 문장을 입력했을때, 아래와 같은 결과가 나오게 만드시오(모음 : a, e, i, o, u)\n",
        "(6줄 이하)"
      ],
      "metadata": {
        "id": "-1MqfZR6YfUq"
      }
    },
    {
      "cell_type": "code",
      "execution_count": 3,
      "metadata": {
        "id": "fjASyjD1WxWP",
        "colab": {
          "base_uri": "https://localhost:8080/"
        },
        "outputId": "60435614-0fa5-4d2d-a8a2-9e31fb177c1d"
      },
      "outputs": [
        {
          "output_type": "stream",
          "name": "stdout",
          "text": [
            "string : asdfghjklqwertyuiopzxcvbnm\n",
            "5\n"
          ]
        }
      ],
      "source": [
        "inp = input(\"string : \")\n",
        "ans = 0\n",
        "for i in inp:\n",
        "  if i == 'a' or i == 'e' or i == 'i' or i=='o'or i=='u': # if 'a','e','i','o','u' in i:\n",
        "    ans += 1\n",
        "print((\"모음의 수는 : {}개\").format(ans))"
      ]
    },
    {
      "cell_type": "markdown",
      "source": [
        "#2000, 2021, 2100, 2024, 1996의 값을 하나의 리스트로 만들고 윤년일 경우와 아닐경우를 아래와 같이 나타내시오 (4로 나누어 떨어지거나, 100으로 나누어 떨어지거나, 400으로 나누어 떨어지는 년도)\n",
        "(6줄 이하)"
      ],
      "metadata": {
        "id": "47ea4f9dZrxu"
      }
    },
    {
      "cell_type": "code",
      "source": [
        "year = [2000,2021,2100,2024,1996]\n",
        "for i in year:\n",
        "  if i%4==0 or i %100 == 0 or i%400==0:\n",
        "    print((\"{}년도는 윤년입니다.\").format(i))\n",
        "  else:\n",
        "    print((\"{}년도는 윤년이 아닙니다.\").format(i))"
      ],
      "metadata": {
        "colab": {
          "base_uri": "https://localhost:8080/"
        },
        "id": "56usqJxwYNzN",
        "outputId": "7bfd0ae7-d91d-4929-9536-a27b201c01a7"
      },
      "execution_count": 7,
      "outputs": [
        {
          "output_type": "stream",
          "name": "stdout",
          "text": [
            "2000년도는 윤년입니다.\n",
            "2021년도는 윤년이 아닙니다.\n",
            "2100년도는 윤년입니다.\n",
            "2024년도는 윤년입니다.\n",
            "1996년도는 윤년입니다.\n"
          ]
        }
      ]
    },
    {
      "cell_type": "markdown",
      "source": [
        "#아래와 같은 코드를 작성하시오 \n",
        "(6줄 이하)"
      ],
      "metadata": {
        "id": "A5Fsdyy7o8AA"
      }
    },
    {
      "cell_type": "code",
      "source": [
        "lis = []\n",
        "for i in range(10):\n",
        "  a = int(input(\"정수를 입력하세요 : \"))\n",
        "  if a % 5 == 0:\n",
        "    lis.append(a)\n",
        "print((\"5의 배수의 리스트는 : {} 입니다.\").format(lis))"
      ],
      "metadata": {
        "id": "DSLbQiOvYSCf",
        "colab": {
          "base_uri": "https://localhost:8080/"
        },
        "outputId": "57d4d9c0-42e7-4d02-f9f7-f5725a4507ab"
      },
      "execution_count": 20,
      "outputs": [
        {
          "output_type": "stream",
          "name": "stdout",
          "text": [
            "정수를 입력하세요 : 5\n",
            "정수를 입력하세요 : 5\n",
            "정수를 입력하세요 : 4\n",
            "정수를 입력하세요 : 7\n",
            "정수를 입력하세요 : 9\n",
            "정수를 입력하세요 : 10\n",
            "정수를 입력하세요 : 7\n",
            "정수를 입력하세요 : 3\n",
            "정수를 입력하세요 : 2\n",
            "정수를 입력하세요 : 9\n",
            "5의 배수의 리스트는 : [5, 5, 10] 입니다.\n"
          ]
        }
      ]
    },
    {
      "cell_type": "markdown",
      "source": [
        "#리스트에 라면, 3000, 생수, 2500, 과자,1500, 삼각김밥, 1000을 저장하고 아래와 같이 나타내시오\n",
        "(10줄 이하) for문 if문 무조껀 사용"
      ],
      "metadata": {
        "id": "DEkbX1u1pWp5"
      }
    },
    {
      "cell_type": "code",
      "source": [
        "lis=['라면',3000,'생수',2500,'과자',1500,'삼각김밥',1000]\n",
        "menu=[]\n",
        "price=[]\n",
        "for i in lis:\n",
        "  if type(i) == int:\n",
        "    price.append(i)\n",
        "  else:\n",
        "    menu.append(i)\n",
        "print(menu)\n",
        "print(price)"
      ],
      "metadata": {
        "colab": {
          "base_uri": "https://localhost:8080/"
        },
        "id": "N6HWxAhnp1os",
        "outputId": "7e90fa6a-2193-4857-cef8-f0b6ea02cf32"
      },
      "execution_count": 16,
      "outputs": [
        {
          "output_type": "stream",
          "name": "stdout",
          "text": [
            "['라면', '생수', '과자', '삼각김밥']\n",
            "[3000, 2500, 1500, 1000]\n"
          ]
        }
      ]
    },
    {
      "cell_type": "markdown",
      "source": [
        "##1번의 딕셔너리 값을 2번 값으로 변경하시오\n",
        "단 새로운 딕셔너리를 만들어서 변경할순없다."
      ],
      "metadata": {
        "id": "EbSdnHX6Pepm"
      }
    },
    {
      "cell_type": "code",
      "source": [],
      "metadata": {
        "colab": {
          "base_uri": "https://localhost:8080/"
        },
        "id": "Z_bbqC2YPBVA",
        "outputId": "10c62e8d-88a0-427b-9984-1bfccd9b3e1b"
      },
      "execution_count": null,
      "outputs": [
        {
          "output_type": "execute_result",
          "data": {
            "text/plain": [
              "{'name': 'John', 'age': 20, 'grade': 'A'}"
            ]
          },
          "metadata": {},
          "execution_count": 7
        }
      ]
    },
    {
      "cell_type": "code",
      "source": [],
      "metadata": {
        "colab": {
          "base_uri": "https://localhost:8080/"
        },
        "id": "5Qf_ugxMPPYY",
        "outputId": "e93281d8-0e0f-42e7-fb45-44da031e5aa7"
      },
      "execution_count": null,
      "outputs": [
        {
          "output_type": "execute_result",
          "data": {
            "text/plain": [
              "{'name': 'John', 'age': 21, 'city': 'New York'}"
            ]
          },
          "metadata": {},
          "execution_count": 8
        }
      ]
    },
    {
      "cell_type": "code",
      "source": [
        "dic = {'name':'john','age':21,'grade':'A'}\n",
        "dic.pop('grade')\n",
        "print(dic)\n",
        "dic['city'] = 'New York'\n",
        "dic"
      ],
      "metadata": {
        "id": "F8tEEg-pPRpP",
        "outputId": "b174215c-3830-4117-88e3-cf1b384599b7",
        "colab": {
          "base_uri": "https://localhost:8080/"
        }
      },
      "execution_count": 19,
      "outputs": [
        {
          "output_type": "stream",
          "name": "stdout",
          "text": [
            "{'name': 'john', 'age': 21}\n"
          ]
        },
        {
          "output_type": "execute_result",
          "data": {
            "text/plain": [
              "{'name': 'john', 'age': 21, 'city': 'New York'}"
            ]
          },
          "metadata": {},
          "execution_count": 19
        }
      ]
    }
  ]
}